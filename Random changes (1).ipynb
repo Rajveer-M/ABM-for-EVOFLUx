{
 "cells": [
  {
   "cell_type": "code",
   "execution_count": 1,
   "id": "2889664a-9dea-420d-8af4-2cb352754778",
   "metadata": {},
   "outputs": [
    {
     "ename": "NameError",
     "evalue": "name 'np' is not defined",
     "output_type": "error",
     "traceback": [
      "\u001b[1;31m---------------------------------------------------------------------------\u001b[0m",
      "\u001b[1;31mNameError\u001b[0m                                 Traceback (most recent call last)",
      "Cell \u001b[1;32mIn[1], line 5\u001b[0m\n\u001b[0;32m      2\u001b[0m init_state \u001b[38;5;241m=\u001b[39m \u001b[38;5;241m0.0\u001b[39m \n\u001b[0;32m      4\u001b[0m \u001b[38;5;66;03m# Create a array filled with initial_state representing a cell whose CpG vector is [init_state, init_state, ..., init_state].\u001b[39;00m\n\u001b[1;32m----> 5\u001b[0m population \u001b[38;5;241m=\u001b[39m np\u001b[38;5;241m.\u001b[39mfull((\u001b[38;5;241m1\u001b[39m, N_CpG), init_state, dtype\u001b[38;5;241m=\u001b[39m\u001b[38;5;28mfloat\u001b[39m)\n\u001b[0;32m      6\u001b[0m \u001b[38;5;28mprint\u001b[39m(\u001b[38;5;124m\"\u001b[39m\u001b[38;5;124mAfter initialization, population.shape =\u001b[39m\u001b[38;5;124m\"\u001b[39m, population\u001b[38;5;241m.\u001b[39mshape, \u001b[38;5;124m\"\u001b[39m\u001b[38;5;124mmeaning that there is one row with 500 columns (each with 0).\u001b[39m\u001b[38;5;124m\"\u001b[39m)\n",
      "\u001b[1;31mNameError\u001b[0m: name 'np' is not defined"
     ]
    }
   ],
   "source": [
    "# fully demethylated at first\n",
    "init_state = 0.0 \n",
    "\n",
    "# Create a array filled with initial_state representing a cell whose CpG vector is [init_state, init_state, ..., init_state].\n",
    "population = np.full((1, N_CpG), init_state, dtype=float)\n",
    "print(\"After initialization, population.shape =\", population.shape, \"meaning that there is one row with 500 columns (each with 0).\")"
   ]
  },
  {
   "cell_type": "code",
   "execution_count": 3,
   "id": "9e1fe5fa-f5d8-415d-b271-d272cf6109cc",
   "metadata": {},
   "outputs": [
    {
     "ename": "NameError",
     "evalue": "name 'np' is not defined",
     "output_type": "error",
     "traceback": [
      "\u001b[1;31m---------------------------------------------------------------------------\u001b[0m",
      "\u001b[1;31mNameError\u001b[0m                                 Traceback (most recent call last)",
      "Cell \u001b[1;32mIn[3], line 1\u001b[0m\n\u001b[1;32m----> 1\u001b[0m population \u001b[38;5;241m=\u001b[39m np\u001b[38;5;241m.\u001b[39mrandom\u001b[38;5;241m.\u001b[39mchoice([\u001b[38;5;241m0.0\u001b[39m, \u001b[38;5;241m0.5\u001b[39m, \u001b[38;5;241m1.0\u001b[39m], size\u001b[38;5;241m=\u001b[39m(\u001b[38;5;241m1\u001b[39m, N_CpG), replace\u001b[38;5;241m=\u001b[39m\u001b[38;5;28;01mTrue\u001b[39;00m)\n",
      "\u001b[1;31mNameError\u001b[0m: name 'np' is not defined"
     ]
    }
   ],
   "source": [
    "population = np.random.choice([0.0, 0.5, 1.0], size=(1, N_CpG), replace=True)"
   ]
  },
  {
   "cell_type": "code",
   "execution_count": 7,
   "id": "f29845ac-e17d-4567-badb-8c6b0a206208",
   "metadata": {},
   "outputs": [
    {
     "ename": "NameError",
     "evalue": "name 'mu' is not defined",
     "output_type": "error",
     "traceback": [
      "\u001b[1;31m---------------------------------------------------------------------------\u001b[0m",
      "\u001b[1;31mNameError\u001b[0m                                 Traceback (most recent call last)",
      "Cell \u001b[1;32mIn[7], line 1\u001b[0m\n\u001b[1;32m----> 1\u001b[0m p_ww \u001b[38;5;241m=\u001b[39m \u001b[38;5;241m1\u001b[39m\u001b[38;5;241m-\u001b[39m\u001b[38;5;241m2\u001b[39m\u001b[38;5;241m*\u001b[39mmu\u001b[38;5;241m*\u001b[39mdt       \u001b[38;5;66;03m# 0 -> 0\u001b[39;00m\n\u001b[0;32m      2\u001b[0m p_wk \u001b[38;5;241m=\u001b[39m \u001b[38;5;241m2\u001b[39m\u001b[38;5;241m*\u001b[39mmu\u001b[38;5;241m*\u001b[39mdt         \u001b[38;5;66;03m# 0 -> 0.5\u001b[39;00m\n\u001b[0;32m      3\u001b[0m p_mk \u001b[38;5;241m=\u001b[39m \u001b[38;5;241m2\u001b[39m\u001b[38;5;241m*\u001b[39mgamma\u001b[38;5;241m*\u001b[39mdt      \u001b[38;5;66;03m# 1 -> 0.5\u001b[39;00m\n",
      "\u001b[1;31mNameError\u001b[0m: name 'mu' is not defined"
     ]
    }
   ],
   "source": [
    "p_ww = 1-2*mu*dt       # 0 -> 0\n",
    "p_wk = 2*mu*dt         # 0 -> 0.5\n",
    "p_mk = 2*gamma*dt      # 1 -> 0.5\n",
    "p_mm = 1-2*gamma*dt    # 1 -> 1\n",
    "p_km = nu*dt           # 0.5 -> 1\n",
    "p_kw = zeta*dt         # 0.5 -> 0\n",
    "p_kk = 1-(nu+zeta)*dt  # 0.5 -> 0.5"
   ]
  },
  {
   "cell_type": "code",
   "execution_count": 9,
   "id": "6a298787-f331-42a0-a05f-c68160baf487",
   "metadata": {},
   "outputs": [
    {
     "ename": "NameError",
     "evalue": "name 'theta' is not defined",
     "output_type": "error",
     "traceback": [
      "\u001b[1;31m---------------------------------------------------------------------------\u001b[0m",
      "\u001b[1;31mNameError\u001b[0m                                 Traceback (most recent call last)",
      "Cell \u001b[1;32mIn[9], line 1\u001b[0m\n\u001b[1;32m----> 1\u001b[0m dt \u001b[38;5;241m=\u001b[39m \u001b[38;5;241m0.01\u001b[39m\u001b[38;5;241m/\u001b[39m\u001b[38;5;28mmax\u001b[39m(theta, \u001b[38;5;241m2\u001b[39m\u001b[38;5;241m*\u001b[39mmu, nu, \u001b[38;5;241m2\u001b[39m\u001b[38;5;241m*\u001b[39mgamma, \u001b[38;5;241m2\u001b[39m\u001b[38;5;241m*\u001b[39mzeta)\n",
      "\u001b[1;31mNameError\u001b[0m: name 'theta' is not defined"
     ]
    }
   ],
   "source": [
    "dt = 0.01/max(theta, 2*mu, nu, 2*gamma, 2*zeta) # Discrete time step to avoid chance of double jump"
   ]
  },
  {
   "cell_type": "code",
   "execution_count": 11,
   "id": "42d75951-631d-4b60-b351-eeae6df7d252",
   "metadata": {},
   "outputs": [
    {
     "ename": "NameError",
     "evalue": "name 'time_steps' is not defined",
     "output_type": "error",
     "traceback": [
      "\u001b[1;31m---------------------------------------------------------------------------\u001b[0m",
      "\u001b[1;31mNameError\u001b[0m                                 Traceback (most recent call last)",
      "Cell \u001b[1;32mIn[11], line 1\u001b[0m\n\u001b[1;32m----> 1\u001b[0m \u001b[38;5;28;01mfor\u001b[39;00m t \u001b[38;5;129;01min\u001b[39;00m \u001b[38;5;28mrange\u001b[39m(\u001b[38;5;241m0\u001b[39m, time_steps \u001b[38;5;241m+\u001b[39m \u001b[38;5;241m1\u001b[39m):\n\u001b[0;32m      2\u001b[0m     M \u001b[38;5;241m=\u001b[39m population\u001b[38;5;241m.\u001b[39mshape[\u001b[38;5;241m0\u001b[39m]\n\u001b[0;32m      3\u001b[0m     \u001b[38;5;66;03m# \"Lag\" in initial cell division. Else the cells will divide based on our division rate.\u001b[39;00m\n",
      "\u001b[1;31mNameError\u001b[0m: name 'time_steps' is not defined"
     ]
    }
   ],
   "source": [
    "for t in range(0, time_steps + 1):\n",
    "    M = population.shape[0]\n",
    "    # \"Lag\" in initial cell division. Else the cells will divide based on our division rate.\n",
    "    if t <= tau_1:\n",
    "        will_divide = np.zeros(M, dtype=bool)\n",
    "    else: \n",
    "        will_divide = (np.random.rand(M) < division_rate)\n",
    "    # If the current cells divide, copy them to prevent altering population and store as daughters.\n",
    "    daughters = population[will_divide, :].copy()\n",
    "    # CpG sites in the cells are methylated with probabilities as defined above (from EVOFLUx Bayesian inference)\n",
    "    if daughters.size > 0: \n",
    "        # Building Boolean mask for the array to represent the methylation levels\n",
    "        state_w = (daughters == 0.0)\n",
    "        state_k = (daughters == 0.5)\n",
    "        state_m = (daughters == 1.0)\n",
    "        # Matrix for methylation flipping decisions\n",
    "        flips_probability = np.random.rand(*daughters.shape)\n",
    "        # Flipping the methylation levels with the probabilities, sampling for the uniform distribution. \n",
    "        change_wk = state_w & (flips_probability < p_wk)\n",
    "        daughters[change_wk] = 0.5\n",
    "\n",
    "        change_mk = state_m & (flips_probability < p_mk)\n",
    "        daughters[change_mk] = 0.5 \n",
    "\n",
    "        # New matrix of flipping probabilities to deal with k (50% methylation) flips. \n",
    "        flips_k_probability = np.random.rand(*daughters.shape)\n",
    "        \n",
    "        change_kw = state_k & (flips_k_probability < p_kw)\n",
    "        daughters[change_kw] = 0.0\n",
    "        \n",
    "        change_km = state_k & (flips_k_probability >= p_kw) & (flips_k_probability < p_kw + p_km) \n",
    "        daughters[change_km] = 1.0\n",
    "\n",
    "        population = np.vstack([population, daughters])\n",
    "        population_tau1 = population"
   ]
  },
  {
   "cell_type": "code",
   "execution_count": 13,
   "id": "9fe6c91b-f647-44fd-b892-00e110372754",
   "metadata": {},
   "outputs": [
    {
     "ename": "NameError",
     "evalue": "name 'time_steps' is not defined",
     "output_type": "error",
     "traceback": [
      "\u001b[1;31m---------------------------------------------------------------------------\u001b[0m",
      "\u001b[1;31mNameError\u001b[0m                                 Traceback (most recent call last)",
      "Cell \u001b[1;32mIn[13], line 1\u001b[0m\n\u001b[1;32m----> 1\u001b[0m \u001b[38;5;28;01mfor\u001b[39;00m t \u001b[38;5;129;01min\u001b[39;00m \u001b[38;5;28mrange\u001b[39m(\u001b[38;5;241m0\u001b[39m, time_steps \u001b[38;5;241m+\u001b[39m \u001b[38;5;241m1\u001b[39m):\n\u001b[0;32m      2\u001b[0m     M \u001b[38;5;241m=\u001b[39m population\u001b[38;5;241m.\u001b[39mshape[\u001b[38;5;241m0\u001b[39m]\n\u001b[0;32m      3\u001b[0m     \u001b[38;5;66;03m# \"Lag\" in initial cell division. Else the cells will divide based on our division rate.\u001b[39;00m\n",
      "\u001b[1;31mNameError\u001b[0m: name 'time_steps' is not defined"
     ]
    }
   ],
   "source": [
    "for t in range(0, time_steps + 1):\n",
    "    M = population.shape[0]\n",
    "    # \"Lag\" in initial cell division. Else the cells will divide based on our division rate.\n",
    "    if t <= tau_2:\n",
    "        will_divide = np.zeros(M, dtype=bool)\n",
    "    else: \n",
    "        will_divide = (np.random.rand(M) < division_rate)\n",
    "    # If the current cells divide, copy them to prevent altering population and store as daughters.\n",
    "    daughters = population[will_divide, :].copy()\n",
    "    # CpG sites in the cells are methylated with probabilities as defined above (from EVOFLUx Bayesian inference)\n",
    "    if daughters.size > 0: \n",
    "        # Building Boolean mask for the array to represent the methylation levels\n",
    "        state_w = (daughters == 0.0)\n",
    "        state_k = (daughters == 0.5)\n",
    "        state_m = (daughters == 1.0)\n",
    "        # Matrix for methylation flipping decisions\n",
    "        flips_probability = np.random.rand(*daughters.shape)\n",
    "        # Flipping the methylation levels with the probabilities, sampling for the uniform distribution. \n",
    "        change_wk = state_w & (flips_probability < p_wk)\n",
    "        daughters[change_wk] = 0.5\n",
    "\n",
    "        change_mk = state_m & (flips_probability < p_mk)\n",
    "        daughters[change_mk] = 0.5 \n",
    "\n",
    "        # New matrix of flipping probabilities to deal with k (50% methylation) flips. \n",
    "        flips_k_probability = np.random.rand(*daughters.shape)\n",
    "        \n",
    "        change_kw = state_k & (flips_k_probability < p_kw)\n",
    "        daughters[change_kw] = 0.0\n",
    "        \n",
    "        change_km = state_k & (flips_k_probability >= p_kw) & (flips_k_probability < p_kw + p_km) \n",
    "        daughters[change_km] = 1.0\n",
    "\n",
    "        population = np.vstack([population, daughters])\n",
    "        population_tau2 = population"
   ]
  },
  {
   "cell_type": "code",
   "execution_count": null,
   "id": "2f9a3947-dd7b-4300-8985-c3702be82ac2",
   "metadata": {},
   "outputs": [],
   "source": []
  }
 ],
 "metadata": {
  "kernelspec": {
   "display_name": "Python [conda env:base] *",
   "language": "python",
   "name": "conda-base-py"
  },
  "language_info": {
   "codemirror_mode": {
    "name": "ipython",
    "version": 3
   },
   "file_extension": ".py",
   "mimetype": "text/x-python",
   "name": "python",
   "nbconvert_exporter": "python",
   "pygments_lexer": "ipython3",
   "version": "3.12.7"
  }
 },
 "nbformat": 4,
 "nbformat_minor": 5
}
